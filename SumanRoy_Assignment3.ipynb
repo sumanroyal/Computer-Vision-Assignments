{
 "cells": [
  {
   "cell_type": "markdown",
   "id": "7f9371a5",
   "metadata": {},
   "source": [
    "# Arindam Patra (MDS202008)\n",
    "# Shiuli Subhra Ghosh (MDS202035)\n",
    "# Suman Roy (MDS202041)"
   ]
  },
  {
   "cell_type": "markdown",
   "id": "01e0dbcb",
   "metadata": {},
   "source": [
    "Since the .ipynb file size is too large to submit, we are submitting the Google Colab link. \n",
    "Link : https://colab.research.google.com/drive/1kaDxEpSOefEl5ig4M0zAbWshN6UHn_sS?usp=sharing"
   ]
  },
  {
   "cell_type": "code",
   "execution_count": null,
   "id": "53fd61e6",
   "metadata": {},
   "outputs": [],
   "source": []
  }
 ],
 "metadata": {
  "kernelspec": {
   "display_name": "Python 3 (ipykernel)",
   "language": "python",
   "name": "python3"
  },
  "language_info": {
   "codemirror_mode": {
    "name": "ipython",
    "version": 3
   },
   "file_extension": ".py",
   "mimetype": "text/x-python",
   "name": "python",
   "nbconvert_exporter": "python",
   "pygments_lexer": "ipython3",
   "version": "3.8.12"
  }
 },
 "nbformat": 4,
 "nbformat_minor": 5
}
